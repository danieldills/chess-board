{
 "cells": [
  {
   "cell_type": "code",
   "execution_count": 4,
   "source": [
    "import numpy as np\n",
    "import matplotlib.pyplot as plt"
   ],
   "outputs": [],
   "metadata": {}
  },
  {
   "cell_type": "code",
   "execution_count": 22,
   "source": [
    "class Board:\n",
    "    def __init__(self):\n",
    "        self.grid = np.zeros((8,8,3))\n",
    "        self.grid[1::2, ::2] = 1\n",
    "        self.grid[::2, 1::2] = 1\n",
    "        self.blue_row = None\n",
    "        self.blue_column = None\n",
    "        self.red_row = None\n",
    "        self.red_column = None\n",
    "\n",
    "    def add_red(self, row, col):\n",
    "        self.red_row = row\n",
    "        self.red_column = col\n",
    "        self.grid[row][col] = (1,0,0)\n",
    "\n",
    "    def add_blue(self, row, col):\n",
    "        self.blue_row = row\n",
    "        self.blue_column = col\n",
    "        self.grid[row][col] = (0,0,1)\n",
    "\n",
    "    def render(self):\n",
    "        plt.imshow(self.grid)\n",
    "\n",
    "    def is_under_attack(self):\n",
    "        if self.blue_row == self.red_row or self.blue_column == self.red_column:\n",
    "            return True\n",
    "        \n",
    "        if abs(self.red_column - self.blue_column) == abs(self.red_row - self.blue_row):\n",
    "            return True\n",
    "\n",
    "        return False"
   ],
   "outputs": [],
   "metadata": {}
  },
  {
   "cell_type": "code",
   "execution_count": 25,
   "source": [
    "chess_board1 = Board()\n",
    "chess_board1.add_blue(4,3)\n",
    "chess_board1.add_red(6,4)\n",
    "chess_board1.render()\n",
    "print(chess_board1.is_under_attack())"
   ],
   "outputs": [
    {
     "output_type": "stream",
     "name": "stdout",
     "text": [
      "False\n"
     ]
    },
    {
     "output_type": "display_data",
     "data": {
      "text/plain": [
       "<Figure size 432x288 with 1 Axes>"
      ],
      "image/png": "[encoded data removed]"
     },
     "metadata": {
      "needs_background": "light"
     }
    }
   ],
   "metadata": {}
  },
  {
   "cell_type": "code",
   "execution_count": 27,
   "source": [
    "chess_board1.add_red(6,2)\n",
    "chess_board1.add_blue(6,4)\n",
    "assert chess_board1.is_under_attack()\n",
    "print('***WARNING UNDER ATTACK***')"
   ],
   "outputs": [
    {
     "output_type": "stream",
     "name": "stdout",
     "text": [
      "***WARNING UNDER ATTACK***\n"
     ]
    }
   ],
   "metadata": {}
  },
  {
   "cell_type": "code",
   "execution_count": 28,
   "source": [
    "chess_board1.add_red(1,4)\n",
    "chess_board1.add_blue(4,1)\n",
    "assert chess_board1.is_under_attack()\n",
    "print('***WARNING UNDER ATTACK***')"
   ],
   "outputs": [
    {
     "output_type": "stream",
     "name": "stdout",
     "text": [
      "***WARNING UNDER ATTACK***\n"
     ]
    }
   ],
   "metadata": {}
  },
  {
   "cell_type": "code",
   "execution_count": 29,
   "source": [
    "chess_board1.add_red(1,4)\n",
    "chess_board1.add_blue(4,1)\n",
    "assert chess_board1.is_under_attack()\n",
    "print('***WARNING UNDER ATTACK***')"
   ],
   "outputs": [
    {
     "output_type": "stream",
     "name": "stdout",
     "text": [
      "***WARNING UNDER ATTACK***\n"
     ]
    }
   ],
   "metadata": {}
  },
  {
   "cell_type": "code",
   "execution_count": 30,
   "source": [
    "chess_board1.add_red(2,5)\n",
    "chess_board1.add_blue(3,7)\n",
    "assert not chess_board1.is_under_attack()\n",
    "print('***NOT UNDER ATTACK***')"
   ],
   "outputs": [
    {
     "output_type": "stream",
     "name": "stdout",
     "text": [
      "***NOT UNDER ATTACK***\n"
     ]
    }
   ],
   "metadata": {}
  }
 ],
 "metadata": {
  "orig_nbformat": 4,
  "language_info": {
   "name": "python"
  }
 },
 "nbformat": 4,
 "nbformat_minor": 2
}